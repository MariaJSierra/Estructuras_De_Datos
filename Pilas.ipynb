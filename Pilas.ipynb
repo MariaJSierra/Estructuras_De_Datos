{
  "nbformat": 4,
  "nbformat_minor": 0,
  "metadata": {
    "colab": {
      "provenance": []
    },
    "kernelspec": {
      "name": "python3",
      "display_name": "Python 3"
    },
    "language_info": {
      "name": "python"
    }
  },
  "cells": [
    {
      "cell_type": "code",
      "source": [
        "class Empty(Exception):\n",
        "    pass\n",
        "\n",
        "#@title LinkedStack (pilas con listas enlazadas)\n",
        "class LinkedStack:\n",
        "    \"\"\"LIFO Stack implementation using a singly linked list for storage\"\"\"\n",
        "\n",
        "    class _Node:\n",
        "        \"\"\"Lightweight, nonpublic class for storing a singly linked node\"\"\"\n",
        "        __slots__ = \"_element\", \"_next\"\n",
        "\n",
        "        def __init__(self, element, next):\n",
        "            self._element = element\n",
        "            self._next = next\n",
        "\n",
        "    def __init__(self):\n",
        "        self._head = None\n",
        "        self._size = 0\n",
        "\n",
        "    def __len__(self):\n",
        "        return self._size\n",
        "\n",
        "    def is_empty(self):\n",
        "        return self._size == 0\n",
        "\n",
        "    def push(self, e):\n",
        "        \"\"\"Add element e to the top of the stack\"\"\"\n",
        "        self._head = self._Node(e, self._head)\n",
        "        self._size += 1\n",
        "\n",
        "    def top(self):\n",
        "        \"\"\"Return the element at top of stack. Raise Empty Exception if stack empty\"\"\"\n",
        "        if self.is_empty():\n",
        "            raise Empty('Stack is empty')\n",
        "        return self._head._element\n",
        "\n",
        "    def pop(self):\n",
        "        \"\"\"Remove and return the element from the top of the stack (i.e. LIFO)\"\"\"\n",
        "        if self.is_empty():\n",
        "            raise Empty('Stack is empty')\n",
        "        elem = self._head._element\n",
        "        self._head = self._head._next\n",
        "        self._size -= 1\n",
        "        return elem\n",
        "\n",
        "    def imprimir(self):\n",
        "        walk = self._head\n",
        "        for i in range(len(self)):\n",
        "            print(walk._element, end=\" -> \")\n",
        "            walk = walk._next\n",
        "\n",
        "    def push_ordenado(self, elem):\n",
        "        if self.is_empty() or self._head._element > elem:\n",
        "          self.push(elem)\n",
        "        else:\n",
        "          walk = self._head\n",
        "\n",
        "          while walk._next is not None and walk._next._element < elem:\n",
        "              walk = walk._next\n",
        "\n",
        "          new_node = LinkedStack()\n",
        "          new_node.push(elem)\n",
        "\n",
        "          new_node._head._next = walk._next\n",
        "          walk._next = new_node._head\n",
        "          self._size += 1"
      ],
      "metadata": {
        "id": "buXanTgZzAbj"
      },
      "execution_count": null,
      "outputs": []
    },
    {
      "cell_type": "markdown",
      "source": [
        "#Laboratorio 4\n",
        "En este laboratorio, se llevará a cabo una medición experimental para determinar la complejidad temporal de la función a continuación. Se seguirán varios pasos para recopilar datos y analizar el comportamiento de esta función en función del tamaño de la entrada.\n",
        "\n",
        "Use la implementación de **LinkedStack** dada.\n",
        "\n",
        "**Pasos**\n",
        "+ Paso 1: Generación de Listas Enlazadas Ordenadas.\n",
        "Escriba una función denominada generar_lista(n) que devuelva una lista enlazada ordenada con n números aleatorios, cada uno en el rango de 1 a 10,000. Por Ejemplo: 3 -> 6 -> 1000.\n",
        "\n",
        "+ Paso 2: Cálculo del Tiempo.\n",
        "Desarrolle una función llamada calcular_tiempo(n) que genere 30 listas aleatorias de tamaño n y calcule el tiempo promedio que la función tarda en crear cada lista, utilizando la función time().\n",
        "\n",
        "+ Paso 3: Creación de un DataFrame de Pandas.\n",
        "Con los resultados obtenidos, se construirá un DataFrame de Pandas con dos columnas. La primera columna contendrá los valores de n, variando desde 1 hasta 10,000, y la segunda columna contendrá los valores de calcular_tiempo(n).\n",
        "\n",
        "+ Paso 4: Diagrama de Puntos.\n",
        "Se realizará un diagrama de dispersión utilizando el DataFrame anterior, con los valores de n en el eje X y el tiempo promedio en el eje Y.\n",
        "\n",
        "+ Paso 5: Análisis de la Complejidad.\n",
        "Compare el resultado del diagrama de puntos con la teoría vista en clase. ¿Tiene sentido?"
      ],
      "metadata": {
        "id": "ccJy9IDa3Bdi"
      }
    },
    {
      "cell_type": "code",
      "execution_count": null,
      "metadata": {
        "id": "Ynwdqv-q37_7"
      },
      "outputs": [],
      "source": [
        "import random\n",
        "import pandas as pd\n",
        "from time import time\n",
        "import numpy as np\n",
        "import matplotlib.pyplot as plt"
      ]
    },
    {
      "cell_type": "code",
      "source": [
        "def insertar(n):\n",
        "  stack = LinkedStack()\n",
        "  for _ in range(n): stack.push_ordenado(random.randint(1,10000))\n",
        "  return stack"
      ],
      "metadata": {
        "id": "brUas_UB35Sm"
      },
      "execution_count": null,
      "outputs": []
    },
    {
      "cell_type": "code",
      "source": [
        "def calcular_tiempo(n):\n",
        "  tiempo_prom = 0\n",
        "  for _ in range(30):\n",
        "    start_time = time()\n",
        "    insertar(n)\n",
        "    end_time = time()\n",
        "    elapsed = end_time - start_time\n",
        "    tiempo_prom += elapsed\n",
        "  return tiempo_prom/30"
      ],
      "metadata": {
        "id": "8DHllI6GAk0z"
      },
      "execution_count": null,
      "outputs": []
    },
    {
      "cell_type": "code",
      "source": [
        "intentos = [calcular_tiempo(i) for i in range(1, 1001)]"
      ],
      "metadata": {
        "id": "GXEutq4_CJha"
      },
      "execution_count": null,
      "outputs": []
    },
    {
      "cell_type": "code",
      "source": [
        "x = pd.DataFrame({'n': range(1, 1001), 'tiempo': intentos})"
      ],
      "metadata": {
        "id": "R1MqYRYnGeJL"
      },
      "execution_count": null,
      "outputs": []
    },
    {
      "cell_type": "code",
      "source": [
        "plt.scatter(range(1, 1001), intentos)\n",
        "plt.show()"
      ],
      "metadata": {
        "id": "BpSTdePiPi_T",
        "colab": {
          "base_uri": "https://localhost:8080/"
        },
        "outputId": "bffeeefe-8a74-4093-fcac-d431e220e504"
      },
      "execution_count": null,
      "outputs": [
        {
          "output_type": "display_data",
          "data": {
            "text/plain": [
              "<Figure size 640x480 with 1 Axes>"
            ],
            "image/png": "[encoded data removed]"
          },
          "metadata": {}
        }
      ]
    },
    {
      "cell_type": "code",
      "source": [],
      "metadata": {
        "id": "cvUTnsNd5Kyq"
      },
      "execution_count": null,
      "outputs": []
    }
  ]
}